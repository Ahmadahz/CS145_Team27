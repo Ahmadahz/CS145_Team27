{
 "cells": [
  {
   "cell_type": "code",
   "execution_count": 6,
   "metadata": {},
   "outputs": [],
   "source": [
    "#import the required packages for linear and polynomial regression\n",
    "import pandas as pd\n",
    "import pylab as pl\n",
    "import numpy as np\n",
    "import scipy.optimize as opt\n",
    "import glob\n",
    "\n",
    "%matplotlib inline\n",
    "import matplotlib.pyplot as plt\n",
    "\n",
    "from sklearn import preprocessing\n",
    "from sklearn.model_selection import train_test_split\n",
    "from sklearn.linear_model import LogisticRegression\n",
    "from sklearn.metrics import confusion_matrix\n",
    "\n",
    "\n",
    "from sklearn import linear_model\n",
    "from sklearn.preprocessing import PolynomialFeatures\n",
    "from sklearn import linear_model"
   ]
  },
  {
   "cell_type": "code",
   "execution_count": 7,
   "metadata": {},
   "outputs": [],
   "source": [
    "#lm=LinearRegression()\n",
    "regr = linear_model.LinearRegression()"
   ]
  },
  {
   "cell_type": "code",
   "execution_count": 8,
   "metadata": {},
   "outputs": [],
   "source": [
    "#Getting the data from the csv files \n",
    "\n",
    "path = r'./csse_covid_19_data/csse_covid_19_daily_reports_us/may'\n",
    "all_files = glob.glob(path + \"/*.csv\")\n",
    "\n",
    "li = []\n",
    "\n",
    "for filename in all_files:\n",
    "    df = pd.read_csv(filename, index_col=None, header=0)\n",
    "    li.append(df)\n",
    "\n",
    "df = pd.concat(li, axis=0, ignore_index=True)"
   ]
  },
  {
   "cell_type": "code",
   "execution_count": 9,
   "metadata": {},
   "outputs": [],
   "source": [
    "#train the data\n",
    "#ds = pd.read_csv('./csse_covid_19_data/csse_covid_19_daily_reports_us/may/05-05-2020.csv')\n",
    "\n",
    "df = df.dropna()\n",
    "\n",
    "train_x = np.asanyarray(df[[\n",
    "       'Recovered', 'Active',\n",
    "       'Incident_Rate', 'People_Tested', 'People_Hospitalized',\n",
    "       'Mortality_Rate', 'Testing_Rate',\n",
    "       'Hospitalization_Rate']])\n",
    "train_y = np.asanyarray(df['Confirmed'])\n",
    "#dfObj.columns.values"
   ]
  },
  {
   "cell_type": "code",
   "execution_count": 10,
   "metadata": {},
   "outputs": [
    {
     "data": {
      "text/plain": [
       "LinearRegression()"
      ]
     },
     "execution_count": 10,
     "metadata": {},
     "output_type": "execute_result"
    }
   ],
   "source": [
    "#ask = np.all(np.isnan(train_x) | np.equal(train_x, 0), axis=1)\n",
    "#rain_x = train_x[~mask]\n",
    "#rint (train_x)\n",
    "\n",
    "regr.fit (train_x, train_y)"
   ]
  },
  {
   "cell_type": "code",
   "execution_count": 24,
   "metadata": {},
   "outputs": [],
   "source": [
    "#Make test cases\n",
    "ds = pd.read_csv('./csse_covid_19_data/csse_covid_19_daily_reports_us/04-12-2020.csv')\n",
    "ds = ds.dropna()\n",
    "\n",
    "test_x = np.asanyarray(ds[[\n",
    "       'Recovered', 'Active',\n",
    "       'Incident_Rate', 'People_Tested', 'People_Hospitalized',\n",
    "       'Mortality_Rate', 'Testing_Rate',\n",
    "       'Hospitalization_Rate']])\n",
    "test_y = np.asanyarray(ds['Confirmed'])"
   ]
  },
  {
   "cell_type": "code",
   "execution_count": 12,
   "metadata": {},
   "outputs": [],
   "source": [
    "y_prediction = regr.predict(test_x)"
   ]
  },
  {
   "cell_type": "code",
   "execution_count": 13,
   "metadata": {},
   "outputs": [
    {
     "data": {
      "text/plain": [
       "array([ 1.19422999e+02,  1.35483810e+03,  1.46326128e+03,  3.87647819e+01,\n",
       "        5.07768038e+02,  2.10397489e+03,  2.16914914e+03,  4.65778146e+02,\n",
       "        8.50300205e+03,  2.49030036e+04,  2.16519778e+03,  1.25221844e+02,\n",
       "        7.60729846e+02,  1.30563648e+03,  2.20790335e+05,  1.16822808e+02,\n",
       "        2.61812591e+03,  2.49001674e+03,  5.58003195e+02,  6.91122149e+03,\n",
       "        1.59559995e+04,  7.71505336e+02,  1.43575516e+02, -2.98539196e+02])"
      ]
     },
     "execution_count": 13,
     "metadata": {},
     "output_type": "execute_result"
    }
   ],
   "source": [
    "y_prediction"
   ]
  },
  {
   "cell_type": "code",
   "execution_count": 14,
   "metadata": {},
   "outputs": [
    {
     "data": {
      "text/plain": [
       "array([   272,   1280,   1625,    133,    499,   1587,   1963,    633,\n",
       "         8225,  24244,   1621,    387,    929,   1245, 189033,    308,\n",
       "         1970,   2665,    730,   5508,  13677,    727,    593,    270],\n",
       "      dtype=int64)"
      ]
     },
     "execution_count": 14,
     "metadata": {},
     "output_type": "execute_result"
    }
   ],
   "source": [
    "test_y"
   ]
  },
  {
   "cell_type": "code",
   "execution_count": 15,
   "metadata": {},
   "outputs": [],
   "source": [
    "poly = PolynomialFeatures(degree=3)\n",
    "train_x_poly = poly.fit_transform(train_x)"
   ]
  },
  {
   "cell_type": "code",
   "execution_count": 16,
   "metadata": {},
   "outputs": [
    {
     "data": {
      "text/plain": [
       "LinearRegression()"
      ]
     },
     "execution_count": 16,
     "metadata": {},
     "output_type": "execute_result"
    }
   ],
   "source": [
    "regr.fit (train_x_poly , train_y)"
   ]
  },
  {
   "cell_type": "code",
   "execution_count": 17,
   "metadata": {},
   "outputs": [],
   "source": [
    "test_x_poly = poly.fit_transform(test_x)"
   ]
  },
  {
   "cell_type": "code",
   "execution_count": 18,
   "metadata": {},
   "outputs": [],
   "source": [
    "y_prediction = regr.predict(test_x_poly )"
   ]
  },
  {
   "cell_type": "code",
   "execution_count": 19,
   "metadata": {},
   "outputs": [
    {
     "data": {
      "text/plain": [
       "array([4.78049760e+02, 2.02601116e+03, 2.01749349e+03, 2.98462988e+02,\n",
       "       1.30630513e+03, 2.61519149e+03, 3.36741109e+03, 1.25508062e+03,\n",
       "       9.39965455e+03, 2.47342183e+04, 4.31536432e+03, 7.32651451e+02,\n",
       "       1.50276680e+03, 2.05021615e+03, 4.53157173e+05, 6.46117624e+02,\n",
       "       4.48022079e+03, 2.66579999e+03, 1.01295780e+03, 8.58337191e+03,\n",
       "       1.51736169e+04, 7.91557914e+02, 8.09945808e+02, 3.20099405e+02])"
      ]
     },
     "execution_count": 19,
     "metadata": {},
     "output_type": "execute_result"
    }
   ],
   "source": [
    "y_prediction"
   ]
  },
  {
   "cell_type": "code",
   "execution_count": 20,
   "metadata": {},
   "outputs": [
    {
     "data": {
      "text/plain": [
       "array([   272,   1280,   1625,    133,    499,   1587,   1963,    633,\n",
       "         8225,  24244,   1621,    387,    929,   1245, 189033,    308,\n",
       "         1970,   2665,    730,   5508,  13677,    727,    593,    270],\n",
       "      dtype=int64)"
      ]
     },
     "execution_count": 20,
     "metadata": {},
     "output_type": "execute_result"
    }
   ],
   "source": [
    "test_y"
   ]
  },
  {
   "cell_type": "code",
   "execution_count": 21,
   "metadata": {},
   "outputs": [
    {
     "name": "stdout",
     "output_type": "stream",
     "text": [
      "[2.06049760e+02 7.46011160e+02 3.92493490e+02 1.65462988e+02\n",
      " 8.07305132e+02 1.02819149e+03 1.40441109e+03 6.22080624e+02\n",
      " 1.17465455e+03 4.90218285e+02 2.69436432e+03 3.45651451e+02\n",
      " 5.73766801e+02 8.05216150e+02 2.64124173e+05 3.38117624e+02\n",
      " 2.51022079e+03 7.99992079e-01 2.82957805e+02 3.07537191e+03\n",
      " 1.49661689e+03 6.45579139e+01 2.16945808e+02 5.00994052e+01]\n"
     ]
    }
   ],
   "source": [
    "from sklearn.metrics import mean_squared_error\n",
    "#print (mean_squared_error(test_y, y_prediction))\n",
    "print (y_prediction - test_y)"
   ]
  },
  {
   "cell_type": "code",
   "execution_count": 22,
   "metadata": {},
   "outputs": [
    {
     "name": "stdout",
     "output_type": "stream",
     "text": [
      "11817.322420808392\n"
     ]
    }
   ],
   "source": [
    "from sklearn.metrics import mean_absolute_error\n",
    "print (mean_absolute_error(test_y, y_prediction))"
   ]
  },
  {
   "cell_type": "code",
   "execution_count": 25,
   "metadata": {},
   "outputs": [],
   "source": [
    "X = df[[\n",
    "       'Recovered', 'Active',\n",
    "       'Incident_Rate', 'People_Tested', 'People_Hospitalized',\n",
    "       'Mortality_Rate', 'Testing_Rate',\n",
    "       'Hospitalization_Rate']].values\n",
    "y = df['Confirmed'].values"
   ]
  },
  {
   "cell_type": "code",
   "execution_count": 26,
   "metadata": {},
   "outputs": [],
   "source": [
    "X_train, X_test, y_train, y_test = train_test_split( X, y, test_size=0.2, random_state=4)"
   ]
  },
  {
   "cell_type": "code",
   "execution_count": 32,
   "metadata": {},
   "outputs": [
    {
     "data": {
      "text/plain": [
       "SVC(kernel='poly')"
      ]
     },
     "execution_count": 32,
     "metadata": {},
     "output_type": "execute_result"
    }
   ],
   "source": [
    "from sklearn import svm\n",
    "clf = svm.SVC(kernel='poly')\n",
    "clf.fit(X_train, y_train)"
   ]
  },
  {
   "cell_type": "code",
   "execution_count": 33,
   "metadata": {},
   "outputs": [],
   "source": [
    "Predicion = clf.predict(X_test)"
   ]
  },
  {
   "cell_type": "code",
   "execution_count": 34,
   "metadata": {},
   "outputs": [
    {
     "data": {
      "text/plain": [
       "7.142857142857143e-05"
      ]
     },
     "execution_count": 34,
     "metadata": {},
     "output_type": "execute_result"
    }
   ],
   "source": [
    "from sklearn.metrics import f1_score\n",
    "f1_score(y_test, Predicion, average='weighted')"
   ]
  },
  {
   "cell_type": "code",
   "execution_count": 35,
   "metadata": {},
   "outputs": [
    {
     "data": {
      "text/plain": [
       "array([   479,    479,    479,    479,    479,    479,    479, 351371,\n",
       "          479,    479,    479,    479,    479,    479,    479,    479,\n",
       "          479,    479,    479,    479,    479,    479,    479,    479,\n",
       "          479,    479,    479,    479,  18412,    479,    479,    479,\n",
       "          479,    479, 316415,    479,    479,    479,    479,    479,\n",
       "          479,    479,    479,    479,    479,    479,    479,    479,\n",
       "          479,    479,    479,    479,    479,    479,    479,  18412,\n",
       "          479,    479,    479,    479,  18412,    479,    479,    479,\n",
       "          479,    479,    479,    479,    479,    479, 369660,    479,\n",
       "          479, 363836,    479,    479,    479,  18412,    479,    479,\n",
       "          479,    479,    479,    479,    479,    479,    479,    479,\n",
       "        18412,    479,    479,    479,    479,    479,    479,    479,\n",
       "          479,    479,    479,    479,    479,    479,    479,    479,\n",
       "          479,    479,    479, 321192,    479, 155764,    479, 362764,\n",
       "          479,    479,    479,    479,    479,    479,    479,    479,\n",
       "          479, 337055,    479,    479,    479,    479,    479,    479,\n",
       "          479,    479,    479,    479,    479,    479,    479,    479,\n",
       "          479,    479,    479,    479,    479,    479,    479,    479,\n",
       "        18412,  18412,    479,    479,    479,    479,    479,    479,\n",
       "          479,    479,    479,    479,    479,    479,    479,    479,\n",
       "          479,    479,    479,    479,    479,    479, 338485,    479,\n",
       "          479,    479,    479,    479,    479,    479,    479],\n",
       "      dtype=int64)"
      ]
     },
     "execution_count": 35,
     "metadata": {},
     "output_type": "execute_result"
    }
   ],
   "source": [
    "Predicion"
   ]
  },
  {
   "cell_type": "code",
   "execution_count": 36,
   "metadata": {},
   "outputs": [
    {
     "data": {
      "text/plain": [
       "array([  4131,   6625,   9056,  14985,  15668,   6251,  45495, 352845,\n",
       "         7851,   8686,   3556,    579,  17832,   2229,   7444,   4243,\n",
       "        28665,  25462,   4563,    838,  20257,  15229,   3437,   1761,\n",
       "        43531,  14969,  37968,   2061,  19785,   6440,  13260,  34061,\n",
       "         3663,  10960, 318953,   2635,  32984,   4085,   4086,   8901,\n",
       "         5503,   1603,  34574,   2106,   5680,    649,  16635,    850,\n",
       "         9933,   5069,   8909,  20257,   7441,  42323,  10096,  16960,\n",
       "         7705,    596,  14819,   2127,  17359,  28163,  12917,   3864,\n",
       "        15348,   3927,   5364,    485,   6418,   5938, 368284,   8640,\n",
       "          638, 364965,  34333,  41559,  13458,  41401,    635,  19375,\n",
       "         3801,   8426,    458,   5595,  10801,  12795,   4490,  14065,\n",
       "        68087,   9533,  42201,  11394,    479,   2481,   2109,  11799,\n",
       "         5130,   6418,   9707,   9090,   7792,  41762,   8566,    468,\n",
       "        10526,  23196,  16530, 323978,   1123, 156628,  24552, 361515,\n",
       "          457,    643,   2422,   3160,  20838,  11271,   1254,   7234,\n",
       "        29374, 335395,   5175,  13571,   6667,   7689,   8571,  29287,\n",
       "         4014,    675,   5317,   8661,    604,  22482,  22464,    456,\n",
       "         9704,  33373,   7660,   2595,  39017,   9371,   9662,  11131,\n",
       "        17263,  64311,   7624,    478,    643,    637,  17877,  14928,\n",
       "        10779,  38430,   3372,   8571,    466,  13435,  10090,   2310,\n",
       "        13169,  36703,   8364,   6338,   2839,   2506, 340661,   6626,\n",
       "        37727,  16974,  17707,   1687,  21232,  17318,    652],\n",
       "      dtype=int64)"
      ]
     },
     "execution_count": 36,
     "metadata": {},
     "output_type": "execute_result"
    }
   ],
   "source": [
    "y_test"
   ]
  },
  {
   "cell_type": "code",
   "execution_count": 37,
   "metadata": {},
   "outputs": [
    {
     "data": {
      "text/plain": [
       "array([[1.75200000e+03, 2.87900000e+03, 1.42523171e+02, ...,\n",
       "        5.08300881e+00, 1.68401687e+03, 2.89198606e+01],\n",
       "       [7.72800000e+03, 5.20400000e+03, 2.30367575e+02, ...,\n",
       "        3.58607321e+00, 2.88046202e+03, 1.61112354e+01],\n",
       "       [5.97580000e+04, 2.55652000e+05, 1.76343550e+03, ...,\n",
       "        8.05740254e+00, 6.67619157e+03, 2.16973570e+01],\n",
       "       ...,\n",
       "       [6.07960000e+04, 2.59387000e+05, 1.79006815e+03, ...,\n",
       "        8.05468768e+00, 7.08722172e+03, 2.15841738e+01],\n",
       "       [6.65000000e+02, 9.17000000e+03, 9.63316565e+02, ...,\n",
       "        3.62567369e+00, 7.49253559e+03, 1.10044096e+01],\n",
       "       [1.83000000e+03, 8.17000000e+02, 3.62553201e+02, ...,\n",
       "        7.87106447e-01, 2.54290032e+03, 7.90854573e+00]])"
      ]
     },
     "execution_count": 37,
     "metadata": {},
     "output_type": "execute_result"
    }
   ],
   "source": [
    "X_train"
   ]
  },
  {
   "cell_type": "code",
   "execution_count": 38,
   "metadata": {},
   "outputs": [
    {
     "data": {
      "text/plain": [
       "array([  4879,  13413, 343051,   2351,   6943,    493,   7130,  24256,\n",
       "        44424,   9652,  20111,   5245,   2588,   2178,   1226,   6853,\n",
       "         2595,  35903,   6625,    643,   2260,  36986,   2520,    653,\n",
       "       330407,   5398,   2631,  11383,   3687,   4759,   5489,   3732,\n",
       "         8189,   4578,  50988,  10219,  12687,  11274,  19335,    515,\n",
       "        16575,   1741,  15650,   7653,   6129,    640,   3732,   4389,\n",
       "          471,   7493,   6913, 316415,    470,  24081,    813,  16225,\n",
       "        24850,   6317,  17031,    876,  40022,   1425,  25800,    461,\n",
       "          456,   1648,   8207,   5922,   1408,  18370,   4866,   7927,\n",
       "         9378,  30388,  11835,   8407,   5212,   7688,  21285,  20475,\n",
       "        39640,    662,  34950,  13666,  24754,  24174,    505,   2699,\n",
       "        16462,   4613,    629, 369660,   1647,    566,  12222, 363836,\n",
       "         3382,  15863,  11296,   2906,    716,  39342,   2189,    843,\n",
       "         5822,   5662,  41288,   9004,   5237,    638,   3868,  15523,\n",
       "         8507,   5849,  24190,   6472,   1518,  32411,   2015,   6853,\n",
       "        26408,   8706,   6180,   2780,   8167,  12951,    458,  66263,\n",
       "          626,  33554,  15277,    455,  22566,   4793,   2230,   3726,\n",
       "         1477,  46313,    632,   8924,   7688,  11275,   3011,   3513,\n",
       "         7253,  17738,   8424,   6258,    766,   7939,    620,    458,\n",
       "        22063,    481,  40468,   4291,   1185,   2013,  14372, 337055,\n",
       "        21315,   3888,  40873,    801,   9291,  29287,   3935,   3071,\n",
       "         3967,   6936,   6288,   1948,   2554,  19936,   7026,   1565,\n",
       "        13938,   7142,  21679,    647,  15793,  11119,    640,   8392,\n",
       "         3987,   9939, 333122,  18672,   8353,   4424,   8962,  11432,\n",
       "        11861,   6029,   2989,  18412,   7212,   3393,   5730,   4732,\n",
       "         7367,  23531,   2365,  52778,   8571,  25598,  52015,  14396,\n",
       "          891,  16918,   7874,  26084,   2626,   7710,    669,   9199,\n",
       "         1436,   6489,   4286,  12543,    468,   1266,  48423,  15584,\n",
       "        30995,  10483,  20474,  13356,   9704,  11736,   9477,   4813,\n",
       "          787,   3721,    462,   9501,  27489,  10788,  28764,  20157,\n",
       "         2061,   3747,   3747,    903,  18827,  16053,   7969,   2770,\n",
       "         6096,   2803,   3160,   7888,   8069,    639,   8030,   3614,\n",
       "        13952,  19703,  38116,   3491,  18230,   4197,   1994,  16111,\n",
       "        14478,   4863,  12016,    621,   4493,   4589,  16377,   7364,\n",
       "         3358,   2419,   5934,  33765,   4993, 356458,  14441, 370770,\n",
       "         5648,   8816,  10611,  10088,   7068,   4185,   6332,   9365,\n",
       "         4138,   3453,   1462, 159608,   9674,   9797,   3596,   4463,\n",
       "          754,    643,   9305,   2158,   3299,  13571,  12885,   1900,\n",
       "         2741,   5775,  29973,   7238,    479,  29451,   5383,   5960,\n",
       "        13885,  17359,    644,    647,  19914,  16370,   4038,  13731,\n",
       "       160445, 366733,    453,  49709,   6232,   4492,   1877,   4236,\n",
       "         3525,   6951,  36897,   1848,   4231,   2293,   7964,   5310,\n",
       "         8946,   2770,  25107,   2843, 359926,   1571,   6829,   7550,\n",
       "         1153,   1107,   5724,  14117,  21570,   5612,  13177,  19879,\n",
       "        13690,   8620,   3850,   2680,   2636,   7531,   3817,   6432,\n",
       "        23964,    620,  14877,  18472,   1191,   3145,  19845,  26364,\n",
       "         9895,  25070,  16699,  13945,   2455,   4202, 327469,   4356,\n",
       "          898,  12187,   3416,  10530,    456,  15544,    455,  10902,\n",
       "        40249,   8112,    803,   2205,   4828,   5919,   3612, 157185,\n",
       "         4985,  23472,  20895,   2839,  18743,   4177,   2916,  28331,\n",
       "         4149,   3623,  32587,   7518,   4464,  36078,   2418,  31534,\n",
       "         8521,   3239,   1712,   4960,    459,  10416,   2074,  17367,\n",
       "        34137,   4923,  34855,    629,    462,   6138,   5847,  22947,\n",
       "        27117,   7518,   7240,   2055,   2317,  21938,    860,   3541,\n",
       "        19258,  14096,  32145,   9125,   9908,  14906,  26746,  36085,\n",
       "         4651,   4885,   1515,   4330,  41303,  14044,  18961,   4673,\n",
       "        22202,   6538,  41546,    688,   4089,   9945,  17670,  31784,\n",
       "          776,    625,   5532,   9590,   7935,   3949, 308314,  14240,\n",
       "        43611,   5458,   9638,   7886,  14793,    741,   2577,   1225,\n",
       "         6841,  32908,   6273,  10790,   1374,   7877,    644,  35463,\n",
       "         6620,   4044,  22342,   2457,   2579,  14768,  11450, 358154,\n",
       "         1819,   7225,   3887, 354370,    651,   9215, 321192,   2518,\n",
       "        18200,   9464,   6757,  37419,   1931,   2525,  18011,    701,\n",
       "         2439,  11704,  23487,   2226,    643,   4164,  11123,  30485,\n",
       "        11614,   4710,   7159,  36244,   4586,  42533,   3517,   3748,\n",
       "         3068,   3337,   3959,   2095,  16902,   8942,   7953,  34728,\n",
       "         4653,   3228,   7611,  28672,   9077,    479,   3611,   2325,\n",
       "         6192,   9264,   9690,  13670,   6103,   6677,    479,  31140,\n",
       "        12674,   4177,   8921,   4882,  10178,    619,    635,   6037,\n",
       "         2351,  12625,   5087,   4043,   2429, 362764,  19394,  16032,\n",
       "        29683,   1153,   3286,  10418,  16372,    642,   3792,   4492,\n",
       "         7384,   2759,  22566,  27813,   9700,  20573,  18412,  35749,\n",
       "         3972,   1323,  11891,   6229,   2455,  14353,  14065,  20535,\n",
       "         3652,   9381,   2137,   1464,   9175,  14494,  30621,  16864,\n",
       "        13005,  47687,   8625,  19493,   4634,   6663,  11967,   8303,\n",
       "         6777,  15624,   3851,   3479,  14986,  34812,  39762,   8286,\n",
       "         4778,  12434,   8579,  14576,   4012, 312977,   1205,  12661,\n",
       "        14208,  19005,   7013,   4027,    631,  44607, 350121,    479,\n",
       "        10623,   7252,   1371,  17952,   1491, 338485,  14635,   1330,\n",
       "        22797,   2947,   4031,   5449,  38804,   6090,   2178,   5156,\n",
       "         6277,    631,   4127,  39208,  10989,    586,   8057,  14210,\n",
       "         4366,  12674,  17029, 345813, 351371,   8260, 158844,   5993,\n",
       "        21633,   6440,  47152,  12219,  12216,   2293,  23191,   2626,\n",
       "         7314,  35464,  18403,   8951,   9289,   1713,    641,  11685,\n",
       "       155764,   2721,   5003,   3703,   7294,   4963,   2506,   8236,\n",
       "          634,  24473,   2626,   6362,   2282,  13736,  69087,   9185,\n",
       "         2588,   6749,  42022,   2419,    479,   4858,  21960, 348232,\n",
       "        10205,   2668], dtype=int64)"
      ]
     },
     "execution_count": 38,
     "metadata": {},
     "output_type": "execute_result"
    }
   ],
   "source": [
    "y_train"
   ]
  },
  {
   "cell_type": "code",
   "execution_count": null,
   "metadata": {},
   "outputs": [],
   "source": []
  }
 ],
 "metadata": {
  "kernelspec": {
   "display_name": "Python 3",
   "language": "python",
   "name": "python3"
  },
  "language_info": {
   "codemirror_mode": {
    "name": "ipython",
    "version": 3
   },
   "file_extension": ".py",
   "mimetype": "text/x-python",
   "name": "python",
   "nbconvert_exporter": "python",
   "pygments_lexer": "ipython3",
   "version": "3.8.3"
  }
 },
 "nbformat": 4,
 "nbformat_minor": 4
}
